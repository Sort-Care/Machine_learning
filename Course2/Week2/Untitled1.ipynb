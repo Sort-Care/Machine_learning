{
 "cells": [
  {
   "cell_type": "code",
   "execution_count": 104,
   "metadata": {
    "collapsed": true
   },
   "outputs": [],
   "source": [
    "import graphlab"
   ]
  },
  {
   "cell_type": "code",
   "execution_count": 105,
   "metadata": {
    "collapsed": false
   },
   "outputs": [],
   "source": [
    "sales = graphlab.SFrame('kc_house_data.gl/')"
   ]
  },
  {
   "cell_type": "code",
   "execution_count": 106,
   "metadata": {
    "collapsed": true
   },
   "outputs": [],
   "source": [
    "import numpy as np\n",
    "import math"
   ]
  },
  {
   "cell_type": "code",
   "execution_count": 107,
   "metadata": {
    "collapsed": true
   },
   "outputs": [],
   "source": [
    "def get_numpy_data(data_sframe, features, output):\n",
    "    data_sframe['constant'] = 1 # this is how you add a constant column to an SFrame\n",
    "\n",
    "    features = ['constant'] + features # this is how you combine two lists\n",
    "\n",
    "    features_sframe = data_sframe[features]\n",
    "\n",
    "    feature_matrix = features_sframe.to_numpy()\n",
    "\n",
    "    output_sarray = data_sframe[output]\n",
    "\n",
    "    output_array = output_sarray.to_numpy()\n",
    "    return(feature_matrix, output_array)"
   ]
  },
  {
   "cell_type": "code",
   "execution_count": 108,
   "metadata": {
    "collapsed": true
   },
   "outputs": [],
   "source": [
    "def predict_output(feature_matrix, weights):\n",
    "    predictions = np.dot(feature_matrix, weights)\n",
    "    return(predictions)"
   ]
  },
  {
   "cell_type": "code",
   "execution_count": 109,
   "metadata": {
    "collapsed": true
   },
   "outputs": [],
   "source": [
    "def feature_derivative(errors, feature):\n",
    "    derivative = 2 * np.dot(errors, feature)\n",
    "    return(derivative)"
   ]
  },
  {
   "cell_type": "code",
   "execution_count": 110,
   "metadata": {
    "collapsed": true
   },
   "outputs": [],
   "source": [
    "def regression_gradient_descent(feature_matrix, output, initial_weights, step_size, tolerance):\n",
    "    converged = False\n",
    "    weights = np.array(initial_weights)\n",
    "    while not converged:\n",
    "        predictions = predict_output(feature_matrix, weights)\n",
    "        errors = predictions - output\n",
    "        \n",
    "        gradient_sum_squares = 0\n",
    "        \n",
    "        for i in range(len(weights)):\n",
    "            wi_dev = feature_derivative(errors, feature_matrix[:,i])\n",
    "            gradient_sum_squares += np.dot(wi_dev, wi_dev)\n",
    "            weights[i] -= step_size * wi_dev\n",
    "        gradient_magnitude = math.sqrt(gradient_sum_squares)\n",
    "        if gradient_magnitude < tolerance:\n",
    "            converged = True\n",
    "    return(weights)        "
   ]
  },
  {
   "cell_type": "code",
   "execution_count": null,
   "metadata": {
    "collapsed": true
   },
   "outputs": [],
   "source": []
  },
  {
   "cell_type": "code",
   "execution_count": 111,
   "metadata": {
    "collapsed": true
   },
   "outputs": [],
   "source": [
    "train_data, test_data = sales.random_split(.8, seed = 0)"
   ]
  },
  {
   "cell_type": "code",
   "execution_count": 112,
   "metadata": {
    "collapsed": true
   },
   "outputs": [],
   "source": [
    "simple_features = ['sqft_living']\n",
    "my_output= 'price'\n",
    "(simple_feature_matrix, output) = get_numpy_data(train_data, simple_features, my_output)\n",
    "initial_weights = np.array([-47000., 1.])\n",
    "step_size = 7e-12\n",
    "tolerance = 2.5e7"
   ]
  },
  {
   "cell_type": "code",
   "execution_count": 113,
   "metadata": {
    "collapsed": false
   },
   "outputs": [
    {
     "name": "stdout",
     "output_type": "stream",
     "text": [
      "[-46999.88716555    281.91211912]\n"
     ]
    }
   ],
   "source": [
    "my_weight = regression_gradient_descent(simple_feature_matrix,output,initial_weights,step_size,tolerance)\n",
    "print my_weight"
   ]
  },
  {
   "cell_type": "code",
   "execution_count": 114,
   "metadata": {
    "collapsed": true
   },
   "outputs": [],
   "source": [
    "(test_simple_feature_matrix, test_output) = get_numpy_data(test_data, simple_features, my_output)"
   ]
  },
  {
   "cell_type": "code",
   "execution_count": 115,
   "metadata": {
    "collapsed": false
   },
   "outputs": [
    {
     "name": "stdout",
     "output_type": "stream",
     "text": [
      "[ 356134.44317093  784640.86422788  435069.83652353 ...,  663418.65300782\n",
      "  604217.10799338  240550.4743332 ]\n"
     ]
    }
   ],
   "source": [
    "preout = predict_output(test_simple_feature_matrix,my_weight)\n",
    "print preout"
   ]
  },
  {
   "cell_type": "code",
   "execution_count": 116,
   "metadata": {
    "collapsed": false
   },
   "outputs": [
    {
     "name": "stdout",
     "output_type": "stream",
     "text": [
      "16595181.4571\n"
     ]
    }
   ],
   "source": [
    "Rss1 = math.sqrt(((test_output-preout)*(test_output-preout)).sum())\n",
    "print Rss1"
   ]
  },
  {
   "cell_type": "code",
   "execution_count": 117,
   "metadata": {
    "collapsed": true
   },
   "outputs": [],
   "source": [
    "model_features = ['sqft_living', 'sqft_living15']\n",
    "my_output = 'price'\n",
    "(feature_matrix, output2) = get_numpy_data(train_data, model_features, my_output)\n",
    "initial_weights2 = np.array([-100000, 1., 1.])\n",
    "step_size2 = 4e-12\n",
    "tolerance2 = 1e9"
   ]
  },
  {
   "cell_type": "code",
   "execution_count": 118,
   "metadata": {
    "collapsed": true
   },
   "outputs": [],
   "source": [
    "my_weight2 = regression_gradient_descent(feature_matrix, output, initial_weights2, step_size2, tolerance2)"
   ]
  },
  {
   "cell_type": "code",
   "execution_count": 119,
   "metadata": {
    "collapsed": false
   },
   "outputs": [
    {
     "name": "stdout",
     "output_type": "stream",
     "text": [
      "[ -9.99999688e+04   2.45072603e+02   6.52795277e+01]\n"
     ]
    }
   ],
   "source": [
    "print my_weight2"
   ]
  },
  {
   "cell_type": "code",
   "execution_count": 120,
   "metadata": {
    "collapsed": false
   },
   "outputs": [
    {
     "name": "stdout",
     "output_type": "stream",
     "text": [
      "4229\n",
      "[ 366651.41203656  762662.39786164  386312.09499712 ...,  682087.39928241\n",
      "  585579.27865729  216559.20396617]\n"
     ]
    }
   ],
   "source": [
    "simple_features = ['sqft_living','sqft_living15']\n",
    "my_output = 'price'\n",
    "(simple_feature_matrix1, output1) = get_numpy_data(test_data, simple_features, my_output)\n",
    "preout2 = predict_output(simple_feature_matrix1,my_weight2)\n",
    "print len(preout2)\n",
    "print preout2"
   ]
  },
  {
   "cell_type": "code",
   "execution_count": 121,
   "metadata": {
    "collapsed": false
   },
   "outputs": [
    {
     "name": "stdout",
     "output_type": "stream",
     "text": [
      "[ 366651.41203656  762662.39786164  386312.09499712 ...,  682087.39928241\n",
      "  585579.27865729  216559.20396617]\n"
     ]
    }
   ],
   "source": [
    "(test_simple_feature_matrix2, test_output2) = get_numpy_data(test_data, model_features, my_output)\n",
    "preout3 = predict_output(test_simple_feature_matrix2, my_weight2)\n",
    "print preout3"
   ]
  },
  {
   "cell_type": "code",
   "execution_count": 122,
   "metadata": {
    "collapsed": false
   },
   "outputs": [
    {
     "name": "stdout",
     "output_type": "stream",
     "text": [
      "16439691.1913\n"
     ]
    }
   ],
   "source": [
    "RSS2 = math.sqrt(((test_output2-preout3)*(test_output2-preout3)).sum())\n",
    "print RSS2"
   ]
  },
  {
   "cell_type": "code",
   "execution_count": null,
   "metadata": {
    "collapsed": true
   },
   "outputs": [],
   "source": []
  }
 ],
 "metadata": {
  "anaconda-cloud": {},
  "kernelspec": {
   "display_name": "Python [gl-env]",
   "language": "python",
   "name": "Python [gl-env]"
  },
  "language_info": {
   "codemirror_mode": {
    "name": "ipython",
    "version": 2
   },
   "file_extension": ".py",
   "mimetype": "text/x-python",
   "name": "python",
   "nbconvert_exporter": "python",
   "pygments_lexer": "ipython2",
   "version": "2.7.12"
  }
 },
 "nbformat": 4,
 "nbformat_minor": 0
}
